{
 "cells": [
  {
   "cell_type": "markdown",
   "metadata": {},
   "source": [
    "# Movie Recommendation System\n",
    "\n",
    "Predict movie ratings for the MovieLens dataset"
   ]
  },
  {
   "cell_type": "code",
   "execution_count": 1,
   "metadata": {},
   "outputs": [],
   "source": [
    "import pandas as pd\n",
    "import numpy as np\n",
    "import warnings\n",
    "from sklearn.metrics.pairwise import cosine_similarity\n",
    "\n",
    "warnings.simplefilter(action='ignore', category=FutureWarning)\n",
    "\n",
    "#Insert file\n",
    "u_cols = ['user_id', 'age', 'sex', 'occupation', 'zip_code']\n",
    "users = pd.read_csv('u.user', sep='|', names=u_cols)\n",
    "\n",
    "r_cols = ['user_id', 'movie_id', 'rating', 'unix_timestamp']\n",
    "ratings = pd.read_csv('u.data', sep='\\t', names=r_cols)\n",
    "\n",
    "i_cols = ['movie_id', 'movie_title' ,'release_date','video_release_date', 'imdb_url', 'unknown', 'action', 'adventure',\n",
    "'animation', 'childrens', 'comedy', 'crime', 'documentary', 'drama', 'fantasy', 'noir', 'horrow', 'musical', 'mystery', 'romance', 'scifi', 'thriller', 'war', 'western']\n",
    "\n",
    "items = pd.read_csv('u.item', sep='|', names=i_cols, encoding='latin-1')"
   ]
  },
  {
   "cell_type": "markdown",
   "metadata": {},
   "source": [
    "## Collaborative Filtering"
   ]
  },
  {
   "cell_type": "markdown",
   "metadata": {},
   "source": [
    "### Transform function"
   ]
  },
  {
   "cell_type": "code",
   "execution_count": 2,
   "metadata": {},
   "outputs": [],
   "source": [
    "#Transform dataframe into matrix\n",
    "#Input: name of ratings table and whether we want to apply use-based or iltem-based filtering\n",
    "\n",
    "def transform(df=ratings, user_base=True):\n",
    "    \n",
    "    global rating_matrix\n",
    "    global similarity_matrix\n",
    "    global mean\n",
    "    \n",
    "    if user_base == True:\n",
    "        table = pd.pivot_table(ratings, values='rating', index='user_id', columns='movie_id')\n",
    "        \n",
    "    elif user_base == False:\n",
    "        table = pd.pivot_table(ratings, values='rating', index='movie_id', columns='user_id')\n",
    "        \n",
    "    #Normalize the table and turn it into rating matrix\n",
    "    mean = table.mean(axis=1)\n",
    "    rating_matrix = table.subtract(mean, axis='index').fillna(0)\n",
    "    rating_matrix = rating_matrix.values\n",
    "    \n",
    "    #Create similarity matrix\n",
    "    results = []\n",
    "    for i in range(len(rating_matrix)):\n",
    "        for j in range(len(rating_matrix)):\n",
    "            matrix = np.row_stack((rating_matrix[i], rating_matrix[j]))\n",
    "            results.append(cosine_similarity(matrix)[0,1])\n",
    "    \n",
    "    # Change the similarity score of the same user/istem to a large negative number; we should not factor that in during the score prediction\n",
    "    similarity_matrix = results\n",
    "    similarity_matrix = [-99 if i > 0.999 else i for i in similarity_matrix]\n",
    "    similarity_matrix = np.reshape(similarity_matrix, (-1, len(rating_matrix)))\n",
    "       \n",
    "    return print(\"Transformation complete\")"
   ]
  },
  {
   "cell_type": "markdown",
   "metadata": {},
   "source": [
    "### Recommendation function"
   ]
  },
  {
   "cell_type": "code",
   "execution_count": 3,
   "metadata": {
    "scrolled": true
   },
   "outputs": [],
   "source": [
    "#Function for movie recommendation\n",
    "#Input values: rating matrix, similarity matrix, user id, # of other similar users\n",
    "\n",
    "def movies(rating, similarity, user_id=1, k=5):\n",
    "    \n",
    "    global score\n",
    "    \n",
    "    score = []\n",
    "\n",
    "    for i in range(len(rating)):\n",
    "        \n",
    "        #Obtain rating only from k-nearest users\n",
    "        top = np.argsort(-similarity[i])[:k]\n",
    "        \n",
    "        \n",
    "        #Calculate prediction based on normalized rating   \n",
    "        #To avoid the 0 division error\n",
    "        \n",
    "        similarity_total = np.sum(similarity[i][[top]])\n",
    "        \n",
    "        if similarity_total != 0:\n",
    "            prediction = np.dot(rating[[top]].T, similarity[i][[top]])/ similarity_total\n",
    "        else:\n",
    "            prediction = np.zeros(rating.shape[1])\n",
    "     \n",
    "        #Add prediction back to the actual average\n",
    "        score.append(mean.values[i]+prediction)\n",
    "        \n",
    "        \n",
    "    #Find out array location of movie with the highest prediction score for user\n",
    "    top_movies = np.argsort(-score[user_id-1])[:5]\n",
    "        \n",
    "    return print('Our top 5 picks for user {} are: {}'.format(user_id, items.movie_title[top_movies].values))\n"
   ]
  },
  {
   "cell_type": "markdown",
   "metadata": {},
   "source": [
    "### Compare results between user-based and item-based neighborhood technique"
   ]
  },
  {
   "cell_type": "code",
   "execution_count": 4,
   "metadata": {},
   "outputs": [
    {
     "name": "stdout",
     "output_type": "stream",
     "text": [
      "Transformation complete\n"
     ]
    }
   ],
   "source": [
    "transform(ratings)"
   ]
  },
  {
   "cell_type": "code",
   "execution_count": 5,
   "metadata": {
    "scrolled": true
   },
   "outputs": [
    {
     "name": "stdout",
     "output_type": "stream",
     "text": [
      "Our top 5 picks for user 1 are: ['Empire Strikes Back, The (1980)' 'Star Wars (1977)' 'Fargo (1996)'\n",
      " 'Shawshank Redemption, The (1994)' 'Godfather, The (1972)']\n"
     ]
    }
   ],
   "source": [
    "movies(rating_matrix, similarity_matrix, 1, 10)"
   ]
  },
  {
   "cell_type": "code",
   "execution_count": 6,
   "metadata": {},
   "outputs": [
    {
     "name": "stdout",
     "output_type": "stream",
     "text": [
      "Transformation complete\n"
     ]
    }
   ],
   "source": [
    "transform(ratings, False)"
   ]
  },
  {
   "cell_type": "code",
   "execution_count": 7,
   "metadata": {
    "scrolled": true
   },
   "outputs": [
    {
     "name": "stdout",
     "output_type": "stream",
     "text": [
      "Our top 5 picks for user 1 are: ['Grifters, The (1990)' '187 (1997)'\n",
      " 'Star Trek IV: The Voyage Home (1986)' 'Kansas City (1996)'\n",
      " 'Chamber, The (1996)']\n"
     ]
    }
   ],
   "source": [
    "movies(rating_matrix, similarity_matrix, 1,10)"
   ]
  },
  {
   "cell_type": "markdown",
   "metadata": {},
   "source": [
    "---\n",
    "## Misc Codes\n",
    "These codes will be deleted in the final version"
   ]
  },
  {
   "cell_type": "code",
   "execution_count": null,
   "metadata": {},
   "outputs": [],
   "source": [
    "# #Vanilla Veresion\n",
    "\n",
    "# score = []\n",
    "# for i in range(len(rating_matrix)):\n",
    "    \n",
    "#     np.argsort\n",
    "#     #Calculate the prediction\n",
    "#     prediction = np.nansum(rating_matrix.T* similarity_matrix[i], axis=1) / np.nansum(similarity_matrix[i])\n",
    "#     score.append(prediction + df_mean.values[i])"
   ]
  },
  {
   "cell_type": "code",
   "execution_count": null,
   "metadata": {},
   "outputs": [],
   "source": [
    "# #Function for cosine_similiarity\n",
    "# def cosine(matrix):\n",
    "#     dot_prod = (matrix[0] * matrix[1]).sum()\n",
    "#     a_sum = (matrix[0]**2).sum()\n",
    "#     b_sum = (matrix[1]**2).sum()\n",
    "#     results = dot_prod / sqrt(a_sum*b_sum)\n",
    "#     return results"
   ]
  },
  {
   "cell_type": "code",
   "execution_count": null,
   "metadata": {
    "scrolled": false
   },
   "outputs": [],
   "source": [
    "# # results = []\n",
    "# for i in range(len(rating_matrix)):\n",
    "#     for j in range(len(rating_matrix)):\n",
    "#         matrix = np.row_stack((rating_matrix[i], rating_matrix[j]))\n",
    "#         matrix = np.delete(matrix, np.argwhere(np.isnan(matrix[0])), 1)\n",
    "#         matrix = np.delete(matrix, np.argwhere(np.isnan(matrix[1])), 1)\n",
    "#         try:\n",
    "#             results.append(cosine_similarity(matrix)[0,1])\n",
    "#         except:\n",
    "#             results.append(np.nan)"
   ]
  },
  {
   "cell_type": "code",
   "execution_count": null,
   "metadata": {
    "scrolled": true
   },
   "outputs": [],
   "source": [
    "# start_time = time.time()\n",
    "# results = []\n",
    "# for i in range(len(test)):\n",
    "#     for j in range(len(test)):\n",
    "#         matrix = np.row_stack((test[i], test[j]))\n",
    "#         matrix = np.delete(matrix, np.argwhere(np.isnan(matrix[0])), 1)\n",
    "#         matrix = np.delete(matrix, np.argwhere(np.isnan(matrix[1])), 1)\n",
    "#         print(cosine_similarity(matrix)[0,1])\n",
    "        \n",
    "# print(\"--- %s seconds ---\" % (time.time() - start_time))"
   ]
  }
 ],
 "metadata": {
  "kernelspec": {
   "display_name": "Python 3",
   "language": "python",
   "name": "python3"
  },
  "language_info": {
   "codemirror_mode": {
    "name": "ipython",
    "version": 3
   },
   "file_extension": ".py",
   "mimetype": "text/x-python",
   "name": "python",
   "nbconvert_exporter": "python",
   "pygments_lexer": "ipython3",
   "version": "3.7.1"
  }
 },
 "nbformat": 4,
 "nbformat_minor": 4
}
